{
 "cells": [
  {
   "cell_type": "code",
   "execution_count": 9,
   "metadata": {},
   "outputs": [],
   "source": [
    "# Import tools\n",
    "import pandas\n",
    "from bs4 import BeautifulSoup\n",
    "import requests\n"
   ]
  },
  {
   "cell_type": "code",
   "execution_count": 15,
   "metadata": {},
   "outputs": [
    {
     "name": "stdout",
     "output_type": "stream",
     "text": [
      "<!DOCTYPE html>\n",
      "<html lang=\"en-US\">\n",
      " <head>\n",
      "  <title>\n",
      "   Just a moment...\n",
      "  </title>\n",
      "  <meta content=\"text/html; charset=utf-8\" http-equiv=\"Content-Type\"/>\n",
      "  <meta content=\"IE=Edge\" http-equiv=\"X-UA-Compatible\"/>\n",
      "  <meta content=\"noindex,nofollow\" name=\"robots\"/>\n",
      "  <meta content=\"width=device-width,initial-scale=1\" name=\"viewport\"/>\n",
      "  <style>\n",
      "   *{box-sizing:border-box;margin:0;padding:0}html{line-height:1.15;-webkit-text-size-adjust:100%;color:#313131}button,html{font-family:system-ui,-apple-system,BlinkMacSystemFont,Segoe UI,Roboto,Helvetica Neue,Arial,Noto Sans,sans-serif,Apple Color Emoji,Segoe UI Emoji,Segoe UI Symbol,Noto Color Emoji}body{display:flex;flex-direction:column;height:100vh;min-height:100vh}body.no-js .loading-spinner{visibility:hidden}body.theme-dark{background-color:#222;color:#d9d9d9}body.theme-dark a{color:#fff}body.theme-dark a:hover{color:#ee730a;text-decoration:underline}body.theme-dark .lds-ring div{border-color:#999 transparent transparent}body.theme-dark .font-red{color:#b20f03}body.theme-dark .pow-button{background-color:#4693ff;color:#1d1d1d}body.theme-dark #challenge-success-text{background-image:url(data:image/svg+xml;base64,PHN2ZyB4bWxucz0iaHR0cDovL3d3dy53My5vcmcvMjAwMC9zdmciIHdpZHRoPSIzMiIgaGVpZ2h0PSIzMiIgZmlsbD0ibm9uZSIgdmlld0JveD0iMCAwIDI2IDI2Ij48cGF0aCBmaWxsPSIjZDlkOWQ5IiBkPSJNMTMgMGExMyAxMyAwIDEgMCAwIDI2IDEzIDEzIDAgMCAwIDAtMjZtMCAyNGExMSAxMSAwIDEgMSAwLTIyIDExIDExIDAgMCAxIDAgMjIiLz48cGF0aCBmaWxsPSIjZDlkOWQ5IiBkPSJtMTAuOTU1IDE2LjA1NS0zLjk1LTQuMTI1LTEuNDQ1IDEuMzg1IDUuMzcgNS42MSA5LjQ5NS05LjYtMS40Mi0xLjQwNXoiLz48L3N2Zz4=)}body.theme-dark #challenge-error-text{background-image:url(data:image/svg+xml;base64,PHN2ZyB4bWxucz0iaHR0cDovL3d3dy53My5vcmcvMjAwMC9zdmciIHdpZHRoPSIzMiIgaGVpZ2h0PSIzMiIgZmlsbD0ibm9uZSI+PHBhdGggZmlsbD0iI0IyMEYwMyIgZD0iTTE2IDNhMTMgMTMgMCAxIDAgMTMgMTNBMTMuMDE1IDEzLjAxNSAwIDAgMCAxNiAzbTAgMjRhMTEgMTEgMCAxIDEgMTEtMTEgMTEuMDEgMTEuMDEgMCAwIDEtMTEgMTEiLz48cGF0aCBmaWxsPSIjQjIwRjAzIiBkPSJNMTcuMDM4IDE4LjYxNUgxNC44N0wxNC41NjMgOS41aDIuNzgzem0tMS4wODQgMS40MjdxLjY2IDAgMS4wNTcuMzg4LjQwNy4zODkuNDA3Ljk5NCAwIC41OTYtLjQwNy45ODQtLjM5Ny4zOS0xLjA1Ny4zODktLjY1IDAtMS4wNTYtLjM4OS0uMzk4LS4zODktLjM5OC0uOTg0IDAtLjU5Ny4zOTgtLjk4NS40MDYtLjM5NyAxLjA1Ni0uMzk3Ii8+PC9zdmc+)}body.theme-light{background-color:#fff;color:#313131}body.theme-light a{color:#0051c3}body.theme-light a:hover{color:#ee730a;text-decoration:underline}body.theme-light .lds-ring div{border-color:#595959 transparent transparent}body.theme-light .font-red{color:#fc574a}body.theme-light .pow-button{background-color:#003681;border-color:#003681;color:#fff}body.theme-light #challenge-success-text{background-image:url(data:image/svg+xml;base64,PHN2ZyB4bWxucz0iaHR0cDovL3d3dy53My5vcmcvMjAwMC9zdmciIHdpZHRoPSIzMiIgaGVpZ2h0PSIzMiIgZmlsbD0ibm9uZSIgdmlld0JveD0iMCAwIDI2IDI2Ij48cGF0aCBmaWxsPSIjMzEzMTMxIiBkPSJNMTMgMGExMyAxMyAwIDEgMCAwIDI2IDEzIDEzIDAgMCAwIDAtMjZtMCAyNGExMSAxMSAwIDEgMSAwLTIyIDExIDExIDAgMCAxIDAgMjIiLz48cGF0aCBmaWxsPSIjMzEzMTMxIiBkPSJtMTAuOTU1IDE2LjA1NS0zLjk1LTQuMTI1LTEuNDQ1IDEuMzg1IDUuMzcgNS42MSA5LjQ5NS05LjYtMS40Mi0xLjQwNXoiLz48L3N2Zz4=)}body.theme-light #challenge-error-text{background-image:url(data:image/svg+xml;base64,PHN2ZyB4bWxucz0iaHR0cDovL3d3dy53My5vcmcvMjAwMC9zdmciIHdpZHRoPSIzMiIgaGVpZ2h0PSIzMiIgZmlsbD0ibm9uZSI+PHBhdGggZmlsbD0iI2ZjNTc0YSIgZD0iTTE2IDNhMTMgMTMgMCAxIDAgMTMgMTNBMTMuMDE1IDEzLjAxNSAwIDAgMCAxNiAzbTAgMjRhMTEgMTEgMCAxIDEgMTEtMTEgMTEuMDEgMTEuMDEgMCAwIDEtMTEgMTEiLz48cGF0aCBmaWxsPSIjZmM1NzRhIiBkPSJNMTcuMDM4IDE4LjYxNUgxNC44N0wxNC41NjMgOS41aDIuNzgzem0tMS4wODQgMS40MjdxLjY2IDAgMS4wNTcuMzg4LjQwNy4zODkuNDA3Ljk5NCAwIC41OTYtLjQwNy45ODQtLjM5Ny4zOS0xLjA1Ny4zODktLjY1IDAtMS4wNTYtLjM4OS0uMzk4LS4zODktLjM5OC0uOTg0IDAtLjU5Ny4zOTgtLjk4NS40MDYtLjM5NyAxLjA1Ni0uMzk3Ii8+PC9zdmc+)}body.theme-light.feedback-report{border:1px solid #959595}body.feedback-report{border-radius:5px}a{background-color:transparent;color:#0051c3;text-decoration:none;transition:color .15s ease}a:hover{color:#ee730a;text-decoration:underline}.main-content{margin:8rem auto;max-width:60rem;padding-left:1.5rem;padding-right:1.5rem;width:100%}.main-content .spacer{margin:2rem 0}.main-content .loading-spinner{height:76.391px}.feedback-content{align-content:space-between;display:inline-grid;height:100vh;margin:0;padding:0}.feedback-content .spacer{margin:0}.heading-favicon{height:2rem;margin-right:.5rem;width:2rem}@media (width <= 720px){.main-content{margin-top:4rem}.heading-favicon{height:1.5rem;width:1.5rem}.feedback-content{margin-top:0}}.main-wrapper{align-items:center;display:flex;flex:1;flex-direction:column}.feedback-report .main-wrapper{min-height:100vh}.font-red{color:#b20f03}.h1{font-size:2.5rem;font-weight:500;line-height:3.75rem}.h2{font-weight:500}.core-msg,.h2{font-size:1.5rem;line-height:2.25rem}.body-text,.core-msg{font-weight:400}.body-text{font-size:1rem;line-height:1.25rem}@media (width <= 720px){.h1{font-size:1.5rem;line-height:1.75rem}.h2{font-size:1.25rem}.core-msg,.h2{line-height:1.5rem}.core-msg{font-size:1rem}}#challenge-error-text{background-image:url(data:image/svg+xml;base64,PHN2ZyB4bWxucz0iaHR0cDovL3d3dy53My5vcmcvMjAwMC9zdmciIHdpZHRoPSIzMiIgaGVpZ2h0PSIzMiIgZmlsbD0ibm9uZSI+PHBhdGggZmlsbD0iI2ZjNTc0YSIgZD0iTTE2IDNhMTMgMTMgMCAxIDAgMTMgMTNBMTMuMDE1IDEzLjAxNSAwIDAgMCAxNiAzbTAgMjRhMTEgMTEgMCAxIDEgMTEtMTEgMTEuMDEgMTEuMDEgMCAwIDEtMTEgMTEiLz48cGF0aCBmaWxsPSIjZmM1NzRhIiBkPSJNMTcuMDM4IDE4LjYxNUgxNC44N0wxNC41NjMgOS41aDIuNzgzem0tMS4wODQgMS40MjdxLjY2IDAgMS4wNTcuMzg4LjQwNy4zODkuNDA3Ljk5NCAwIC41OTYtLjQwNy45ODQtLjM5Ny4zOS0xLjA1Ny4zODktLjY1IDAtMS4wNTYtLjM4OS0uMzk4LS4zODktLjM5OC0uOTg0IDAtLjU5Ny4zOTgtLjk4NS40MDYtLjM5NyAxLjA1Ni0uMzk3Ii8+PC9zdmc+);padding-left:34px}#challenge-error-text,#challenge-success-text{background-repeat:no-repeat;background-size:contain}#challenge-success-text{background-image:url(data:image/svg+xml;base64,PHN2ZyB4bWxucz0iaHR0cDovL3d3dy53My5vcmcvMjAwMC9zdmciIHdpZHRoPSIzMiIgaGVpZ2h0PSIzMiIgZmlsbD0ibm9uZSIgdmlld0JveD0iMCAwIDI2IDI2Ij48cGF0aCBmaWxsPSIjMzEzMTMxIiBkPSJNMTMgMGExMyAxMyAwIDEgMCAwIDI2IDEzIDEzIDAgMCAwIDAtMjZtMCAyNGExMSAxMSAwIDEgMSAwLTIyIDExIDExIDAgMCAxIDAgMjIiLz48cGF0aCBmaWxsPSIjMzEzMTMxIiBkPSJtMTAuOTU1IDE2LjA1NS0zLjk1LTQuMTI1LTEuNDQ1IDEuMzg1IDUuMzcgNS42MSA5LjQ5NS05LjYtMS40Mi0xLjQwNXoiLz48L3N2Zz4=);padding-left:42px}.text-center{text-align:center}.pow-button{background-color:#0051c3;border:.063rem solid #0051c3;border-radius:.313rem;color:#fff;font-size:.875rem;line-height:1.313rem;margin:2rem 0;padding:.375rem 1rem;transition-duration:.2s;transition-property:background-color,border-color,color;transition-timing-function:ease}.pow-button:hover{background-color:#003681;border-color:#003681;color:#fff;cursor:pointer}.footer{font-size:.75rem;line-height:1.125rem;margin:0 auto;max-width:60rem;padding-left:1.5rem;padding-right:1.5rem;width:100%}.footer-inner{border-top:1px solid #d9d9d9;padding-bottom:1rem;padding-top:1rem}.clearfix:after{clear:both;content:\"\";display:table}.clearfix .column{float:left;padding-right:1.5rem;width:50%}.diagnostic-wrapper{margin-bottom:.5rem}.footer .ray-id{text-align:center}.footer .ray-id code{font-family:monaco,courier,monospace}.core-msg,.zone-name-title{overflow-wrap:break-word}@media (width <= 720px){.diagnostic-wrapper{display:flex;flex-wrap:wrap;justify-content:center}.clearfix:after{clear:none;content:none;display:initial;text-align:center}.column{padding-bottom:2rem}.clearfix .column{float:none;padding:0;width:auto;word-break:keep-all}.zone-name-title{margin-bottom:1rem}}.loading-spinner{height:76.391px}.lds-ring{display:inline-block;position:relative}.lds-ring,.lds-ring div{height:1.875rem;width:1.875rem}.lds-ring div{animation:lds-ring 1.2s cubic-bezier(.5,0,.5,1) infinite;border:.3rem solid transparent;border-radius:50%;border-top-color:#313131;box-sizing:border-box;display:block;position:absolute}.lds-ring div:first-child{animation-delay:-.45s}.lds-ring div:nth-child(2){animation-delay:-.3s}.lds-ring div:nth-child(3){animation-delay:-.15s}@keyframes lds-ring{0%{transform:rotate(0)}to{transform:rotate(1turn)}}@media screen and (-ms-high-contrast:active),screen and (-ms-high-contrast:none){.main-wrapper,body{display:block}}.rtl .heading-favicon{margin-left:.5rem;margin-right:0}.rtl #challenge-success-text{background-position:100%;padding-left:0;padding-right:42px}.rtl #challenge-error-text{background-position:100%;padding-left:0;padding-right:34px}.challenge-content .spacer{margin:2rem 0}.challenge-content .loading-spinner{height:76.391px}@media (prefers-color-scheme:dark){body{background-color:#222;color:#d9d9d9}body a{color:#fff}body a:hover{color:#ee730a;text-decoration:underline}body .lds-ring div{border-color:#999 transparent transparent}body .font-red{color:#b20f03}body .pow-button{background-color:#4693ff;color:#1d1d1d}body #challenge-success-text{background-image:url(data:image/svg+xml;base64,PHN2ZyB4bWxucz0iaHR0cDovL3d3dy53My5vcmcvMjAwMC9zdmciIHdpZHRoPSIzMiIgaGVpZ2h0PSIzMiIgZmlsbD0ibm9uZSIgdmlld0JveD0iMCAwIDI2IDI2Ij48cGF0aCBmaWxsPSIjZDlkOWQ5IiBkPSJNMTMgMGExMyAxMyAwIDEgMCAwIDI2IDEzIDEzIDAgMCAwIDAtMjZtMCAyNGExMSAxMSAwIDEgMSAwLTIyIDExIDExIDAgMCAxIDAgMjIiLz48cGF0aCBmaWxsPSIjZDlkOWQ5IiBkPSJtMTAuOTU1IDE2LjA1NS0zLjk1LTQuMTI1LTEuNDQ1IDEuMzg1IDUuMzcgNS42MSA5LjQ5NS05LjYtMS40Mi0xLjQwNXoiLz48L3N2Zz4=)}body #challenge-error-text{background-image:url(data:image/svg+xml;base64,PHN2ZyB4bWxucz0iaHR0cDovL3d3dy53My5vcmcvMjAwMC9zdmciIHdpZHRoPSIzMiIgaGVpZ2h0PSIzMiIgZmlsbD0ibm9uZSI+PHBhdGggZmlsbD0iI0IyMEYwMyIgZD0iTTE2IDNhMTMgMTMgMCAxIDAgMTMgMTNBMTMuMDE1IDEzLjAxNSAwIDAgMCAxNiAzbTAgMjRhMTEgMTEgMCAxIDEgMTEtMTEgMTEuMDEgMTEuMDEgMCAwIDEtMTEgMTEiLz48cGF0aCBmaWxsPSIjQjIwRjAzIiBkPSJNMTcuMDM4IDE4LjYxNUgxNC44N0wxNC41NjMgOS41aDIuNzgzem0tMS4wODQgMS40MjdxLjY2IDAgMS4wNTcuMzg4LjQwNy4zODkuNDA3Ljk5NCAwIC41OTYtLjQwNy45ODQtLjM5Ny4zOS0xLjA1Ny4zODktLjY1IDAtMS4wNTYtLjM4OS0uMzk4LS4zODktLjM5OC0uOTg0IDAtLjU5Ny4zOTgtLjk4NS40MDYtLjM5NyAxLjA1Ni0uMzk3Ii8+PC9zdmc+)}}\n",
      "  </style>\n",
      "  <meta content=\"120\" http-equiv=\"refresh\"/>\n",
      " </head>\n",
      " <body class=\"no-js\">\n",
      "  <div class=\"main-wrapper\" role=\"main\">\n",
      "   <div class=\"main-content\">\n",
      "    <noscript>\n",
      "     <div id=\"challenge-error-title\">\n",
      "      <div class=\"h2\">\n",
      "       <span id=\"challenge-error-text\">\n",
      "        Enable JavaScript and cookies to continue\n",
      "       </span>\n",
      "      </div>\n",
      "     </div>\n",
      "    </noscript>\n",
      "   </div>\n",
      "  </div>\n",
      "  <script>\n",
      "   (function(){window._cf_chl_opt={cvId: '3',cZone: \"www.planetfitness.com\",cType: 'non-interactive',cNounce: '21029',cRay: '8c342e6b499e8fea',cHash: 'ef58511ca257765',cUPMDTk: \"\\/sitemap?__cf_chl_tk=4Vz4tEpD3xb2yDnajES6VWYTf6N50FrucMaoOBcSm7w-1726356799-0.0.1.1-3903\",cFPWv: 'b',cTTimeMs: '1000',cMTimeMs: '120000',cTplV: 5,cTplB: 'cf',cK: \"\",fa: \"\\/sitemap?__cf_chl_f_tk=4Vz4tEpD3xb2yDnajES6VWYTf6N50FrucMaoOBcSm7w-1726356799-0.0.1.1-3903\",md: \"51FIQbJKXe.SmIxadFUs8UF2FC4d4ItesYpxq1ZyeZI-1726356799-1.1.1.1-Q8pZ.xa51DeWbz_kItRnfpfUlZ6wsKCGV6pR5tR8w32k86dYZl8M2Rkws6_zV04nF2HnQLHabbXW1UJBPvZDDWFh_1l6qErGXTs9SQwSlnp7gs9Iv7.QMaJm6mbh9pOIgip0m3P6dXJsbASENo8Y3fLN4qDn0Fj9.Gosu0tFs_ZHIToX0457Zwg4lUWI9txrDNXKRlPttTn056G6BdViZLhuddKWlXsKm7i5BBLclEFlWnJiLQKwoXbp4qfccaiYDRWdacX2Z9bii.umkTYn2Fbevkcn_HINhR7eSS15SIAO7bsENXQ546jJCLb6iN0pMV4w7s2i4Tcz55NZ7CfPH_K8O0YxW1ktulwMmLm2ox0J71YnonHYzGonrcZMgmG8JfH7.k5GOoaCnoOB6XMmmdHpE_Y5k0duS8RDsLlGl1nQaBWLJKkUK79CIAf8ZDhm34ZLzOSIkw3ADR.DDiVBoOtN4YadvvorapeAzi4KoMXAFSzxFMD0jj.aRNP5Lk0TY5kmm04WT1ZGaTd34uU2TrJKWR9UzkbOewE_F73nj5JOukAV9C7iehnguJ.IDljI0_NGJHQ1Mhx5bAUs69Y_jpdkAgZZd5HwbLSJFw81OzZ_u5MQHnpPFZ13PGksr0JX5wy1cvzx6faBgu8GFrBCEq.zi80jrNG79gtLKeqzj.GU9hrp2F2WsFZADYgfCjWHfScR3TX4nhhenShdpugLm.c5fJGLp1V0_Kf.UbXIfOYYHMYbOI5F3Vn1zdy.ZGWmOzGsXNrHQkZaYEDDmWFdGyCfTV8l.hOcgKaPrM1oJNTaRgmAL3TTrUMRr_SSF9HlMyiSjGEMJ6qzA8Vwdt4rlxDtHxwUzMYGV.OJgMgFy5bOPJssvh1LzN2NiZGTN3PvjsDSMp8HR53Bb05cjX0DeQKM_bN.pvdEVGdFteTMmDhYATMKdfNmqy68mw2IMdUvsU7y3JOi1icmaJiyJe_9oWt6ww6hntMh4hqC4oWuyoPUQ2GkCq44zAHRMLw6XrY.TGdVT7JufuneUw0VKtv9X.opufelEmec4RmgqM3oa6dJydVkFsKVFOspybtoI_bqvqw8gncXzi7jyopfRLc4Ekua0xZ0GlavfCDX3GDGFU0o14QwSXEarKnfj8._V479NFhnZ2vSbpSdCwoekw_UDh9OE88kEkQiDCd_aqb.a5VF7uDURo9Fk3kTsZIG30aCGQ8P9S.bZMW2QutmG9rmu6bIxdl0krH_iorUIwDFAecM8ajOYDqlJBWQwpergpoDIl8901uo_D2OpYqltQpwyP7ZhBmcLBpLhFO4JugKfvhFD5LAhkBsQ1XrhObOw23WkNN23NKS63Tt628fNzUR6Gg.m9ywsNA479o5I45sdW7_BiokaeStJHuLIhV4DlhcluDsVzHYXIF9pk0Chaz2jeNDomJOoHO5Ob5rVyxi6msHvkc8N4luvCFJRqvhv6dkhqrJfIobUo5lMvD2PFo0qg\",mdrd: \"adQQz0sZ6iYX8_qV1q.P3b2McJXdqEBH6QJDW5IM8mo-1726356799-1.1.1.1-dGSLUG0Hqs05dsqbCGZb0.Tsg1ZUw2lLxKFZJikK7YfP_Z97S4aTPl2.XkfGW1M3EVo68wOMdQBdUTwMKjtpzBzwx1W.pLZKbtrtO3SQBexKUk4htl3sii_OetEI4PWGUXJUXFST7wZGktVg20J.Aa.uR1mppEvCRmGgzCB0FP7OjqXp8oxeMyNn8zxqBfkPUmaOGxWciVI.5PlQOXxP9HU7fpVqtRRqZf8eW7YWRqB28JVorEuGkVgf0Bu2rbtlvtHrc3qaFKk5eYO4cg0QreehBgSNI9nKd_IfoZm1pdrUfIqIir21KZotYDgbllf27lyhmEPC2Wnzif8NEkLlkfzbyXVv16Nf95BZ591VF0yo2FdY7caufocLB17Oyc_8wndX1rE7gwth8caa.LWaU.KDpRM2yX3OMG6LXrPZHcKdGIbqoKmgqirNqxSLhd6.xRqVukLlZzOkZA26oZ87ELZ_msn23U_gZkjHBUA03Utmb.cBkJGxYrUFXivWyGBUAjKTGarpmSfzrtV6.P48cmyWwifSwrP6GXUgDwGR6rv_akHLX1xPieZ4bsG8V25BOD2cRbQBRK_Qna192IuP7WywHJjRVaNQ4eZkoIXs8MEgP5zZR5jJxcn0EgDuBLhRFGVycOfuU2bbu5Rjb4LUqbs6AGVmLrsVOqWHLaJtZcufBwj022dqOHEeLrUwtfQjCVvr.JayRs9ggggbO3s2.1vhhOLM_Q90wIdfrDsFpWRwYUKgKv2oS5kD4y9QN2VCec0_l90eo8SpxbT_qrA2HpI1DJYB8GOdy8Ul8Yn5ghFQo_rPeCzpbUmtIIYP.H3_Skm330OQ80KKo6n0BOL_e0Unql09zrq2TSI5UfyhS1.hdaYAqo3DZPtTXwN1YXHTGKVWhxBJkv65O1qrzdT7PRbwuyH167mACEkVrf2_aSbiFbV6OWZQiFIaRtXkrZsPX17K6uce85eAFSTQHpdYrTdpf8enWDraXFAP8.xG5xuezbQlK31KwT7QDsXl7w1Rw4cFeqcAoz7SejwIqE37qfjR5NRnKpjP1vjDyqZ.jVjSnoGJPsumbLhtH.MH8B45vcqxBjG_0LN4a7Ov7_SFgHcSd9qPsbbAYVehSnTyZWnltTuPc5JfBWcoSWE.JD1gkZkthf_ISr5fkJiEnlMoJzD3wJ_.4srCuFSNcTeR9EChM0LcMC7Fi9V44lrbvwU3svAtmTGsxYzi3eBOA15yJeam9RdrkzTrEhAst63P130rXHF9Z8j3.7c3Xa6H2lVlITT2Y_mIgfbXWHsHUVJhNTCRHjK9j0ZIWFZ6ZkzHD2QjC3up_CugyjeFWv9bhJ4gXpWvwYrNPg2zTBfBtWwaJ_fO2glLnk6J03g_R4hUErC4DCwlejIMOpGuw2nWZTz3UYM8k6ub9_XNrIgc_0zUyAG6y2yCoJcd2uhhIVHQwrzFvKOygXOp18ejktKm8OD3lthTQFCA6k8gq2v1mV0Vj44b45on9g1vZEjWCfBUpqkNhvTRWTHVBjeaqH0zXMC4yeuv05tBvmGvIDEZKcp1YrV7lq..059FV9eOpbi6Rdr8iioqtmEii0LerBo5ODnyLS5PaxWbfs1uug6KOBebqmOooPmTlWmg28mtvVDPF_M_ZvOOSVS4ElRMLRpWUM3UhpXl2Wse0tP3IQA60VyhlQQ8W3Xl2UADRvemRoPUGPRngT.Qx6GIGS5ixFM5QmmsU7FisQdmpqm8eTifsKEBceqhCQ8h7pavdQ4VLEeQFMA9oEbSxrThj8uX0Y9IF98HL6WUrngX7j1AvYMmKllGwn4N51y3NAIJJVj7EZsdPtQFphChlH_1zCaqFr8N8fBlDnEW_Wq66r_3OdeYeGS9I5pLPvoXlMpOeiXKG37dchIc_IWSm9TCy2T7RK29wUaGowoH0sz4x2KJjIdlivcbNxHFd.9M5_sbwjJdD7u6ucLuAPlPAbZa2u6qDLv_F6EwJrfVutRPiKzM7WRXTZFC4EqauqeO0kZJU3WshKiYRUjQsKlCpqhHYEGlxBP_iH0SgwYffF0Y9zhkxfa4k2TK3CPkgZBRHdTrRYuIvdjxDm1Q3Nhxdr7yfC5sAuXZkVZklay0QreHKb3V_pg4BYxKM25Pxc7CLIN4UEQu0bwP7RwZjSyt1zLOmm99MphOHs.OqPvfjTsmBF_p1SY89Jnmk4L7Fn66_Zw6kdzDQ6qxj7FhSkdyEe34Cj4UbTg_rGW6x_5bUw8ylzamIDXVmOBGXDZcpCZ_rL6yJn9h8ruprQM\",cRq: {ru: 'aHR0cHM6Ly93d3cucGxhbmV0Zml0bmVzcy5jb20vc2l0ZW1hcA==',ra: 'cHl0aG9uLXJlcXVlc3RzLzIuMjUuMQ==',d: 'vqefYhdSDxDF3+IS8hxp1Xf/Kpn4MY/rggAfvQDf/4pGjHX2eiJPKthm5B+dgGxtPXgwnJ9tZCYFmLtaJ6xwGfu2HaKLb2UagIBqej3JpCmOurfaqTZgqhEnePNdMRQNFH5ZjLMN53uRlvVPRjPzL40/t3gh1LZ5FLZIOfWoVTdUQEgILdiq0YnyHd/M+DAxyVDM9AM+MOmH6bQbxXgUWiK5xWxAJImqqLEJhNKVC2SuXMHMewWWGQ9m94ZnzysZJhMSfXd4krVU0FK8I3AcsHmafLnNWXTD9KSnRlFkzzoLTXxgMBgkeLn2PsNz/RcBehZ1FDb1jQQ+9GoJEQQ1GS6NYHfEnUnI0GIzTy9nwmhBraMDp+5hJcFCoj1xDv0n1YXj4rYvP/fFxKBLqZJOvydyf8Hzx9qkDrkqgZ6oZr0r8nE5frL+hr0mxTsnjnYlO7nvu9uKK1hE+8AlY7R8QGzW5Qtj19YQinHcClJcboeXNltDtqzNoSo4hTD2aAP6+5nrvpYvZUn/gxF+YTP/CvA4KkUn5W0atDpC/sgCiUy2Olq4WMKYjuNhzpCd1yFvM1TW8vcQWOPTz9f8toe3BQ==',t: 'MTcyNjM1Njc5OS4wMDAwMDA=',cT: Math.floor(Date.now() / 1000),m: '41w3M919aaVu1LiqI/DzNT5fx6Rg7xBU3GlO9w5zF2I=',i1: 'ZPVyx/yl7hAD4hPoE9tAJA==',i2: 'NtSZE2OzGPSO7BzIJowflg==',zh: 'k83Jd7fVQNMWLKsdq94gtyOBUG+F+x6hy/er1fwxzdQ=',uh: '5GU+jYv2xJ+bCaE/ARmi/DORbiS/v56CW7E0TH4XWQk=',hh: 'y+9YCc/JjPjkjawsNPs/YLHRn/8bRxk8GiGG8Ep1gr8=',}};var cpo = document.createElement('script');cpo.src = '/cdn-cgi/challenge-platform/h/b/orchestrate/chl_page/v1?ray=8c342e6b499e8fea';window._cf_chl_opt.cOgUHash = location.hash === '' && location.href.indexOf('#') !== -1 ? '#' : location.hash;window._cf_chl_opt.cOgUQuery = location.search === '' && location.href.slice(0, location.href.length - window._cf_chl_opt.cOgUHash.length).indexOf('?') !== -1 ? '?' : location.search;if (window.history && window.history.replaceState) {var ogU = location.pathname + window._cf_chl_opt.cOgUQuery + window._cf_chl_opt.cOgUHash;history.replaceState(null, null, \"\\/sitemap?__cf_chl_rt_tk=4Vz4tEpD3xb2yDnajES6VWYTf6N50FrucMaoOBcSm7w-1726356799-0.0.1.1-3903\" + window._cf_chl_opt.cOgUHash);cpo.onload = function() {history.replaceState(null, null, ogU);}}document.getElementsByTagName('head')[0].appendChild(cpo);}());\n",
      "  </script>\n",
      " </body>\n",
      "</html>\n"
     ]
    }
   ],
   "source": [
    "url = \"https://www.planetfitness.com/sitemap\"\n",
    "req = requests.get(url)\n",
    "\n",
    "soup = BeautifulSoup(req.content, \"html.parser\")\n",
    "\n",
    "print(soup.prettify())"
   ]
  },
  {
   "cell_type": "code",
   "execution_count": 16,
   "metadata": {},
   "outputs": [],
   "source": [
    "for store in soup.find_all('strong'):\n",
    "   print(store.get('strong'))"
   ]
  },
  {
   "cell_type": "code",
   "execution_count": null,
   "metadata": {},
   "outputs": [],
   "source": [
    "combine_table = soup.find('table', class_='sortable')\n",
    "\n",
    "# Get header from first year.\n",
    "if (year == 1987):\n",
    "    # Get the table header\n",
    "    header = []\n",
    "    for title in combine_table.find_all('thead'):\n",
    "        rows = title.find_all('tr')\n",
    "        for row in rows:\n",
    "            for i in range(13):\n",
    "                pl_data = row.find_all('td')[i].text.strip()\n",
    "                header.append(pl_data)"
   ]
  }
 ],
 "metadata": {
  "kernelspec": {
   "display_name": "PythonData",
   "language": "python",
   "name": "python3"
  },
  "language_info": {
   "codemirror_mode": {
    "name": "ipython",
    "version": 3
   },
   "file_extension": ".py",
   "mimetype": "text/x-python",
   "name": "python",
   "nbconvert_exporter": "python",
   "pygments_lexer": "ipython3",
   "version": "3.7.10"
  }
 },
 "nbformat": 4,
 "nbformat_minor": 2
}
